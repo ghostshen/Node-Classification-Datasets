{
 "cells": [
  {
   "cell_type": "code",
   "execution_count": 8,
   "metadata": {
    "scrolled": true
   },
   "outputs": [],
   "source": [
    "import numpy as np\n",
    "import scipy.sparse as sp\n",
    "import csv\n",
    "import scipy.io as scio\n",
    "import networkx as nx"
   ]
  },
  {
   "cell_type": "code",
   "execution_count": 2,
   "metadata": {},
   "outputs": [],
   "source": [
    "data = scio.loadmat(\"BlogCatalog-dataset/small/BlogCatalog.mat\")"
   ]
  },
  {
   "cell_type": "code",
   "execution_count": 3,
   "metadata": {},
   "outputs": [
    {
     "data": {
      "text/plain": [
       "{'__header__': b'MATLAB 5.0 MAT-file, Platform: MACI64, Created on: Tue Oct 17 16:57:18 2017',\n",
       " '__version__': '1.0',\n",
       " '__globals__': [],\n",
       " 'Attributes': <5196x8189 sparse matrix of type '<class 'numpy.float64'>'\n",
       " \twith 369435 stored elements in Compressed Sparse Column format>,\n",
       " 'Label': array([[6],\n",
       "        [2],\n",
       "        [2],\n",
       "        ...,\n",
       "        [4],\n",
       "        [4],\n",
       "        [4]], dtype=uint8),\n",
       " 'Network': <5196x5196 sparse matrix of type '<class 'numpy.float64'>'\n",
       " \twith 343486 stored elements in Compressed Sparse Column format>}"
      ]
     },
     "execution_count": 3,
     "metadata": {},
     "output_type": "execute_result"
    }
   ],
   "source": [
    "data"
   ]
  },
  {
   "cell_type": "code",
   "execution_count": 4,
   "metadata": {},
   "outputs": [],
   "source": [
    "features = sp.csr_matrix(data[\"Attributes\"])\n",
    "labels = np.ravel(data[\"Label\"])\n",
    "adj = sp.csr_matrix(data[\"Network\"])"
   ]
  },
  {
   "cell_type": "code",
   "execution_count": 5,
   "metadata": {},
   "outputs": [
    {
     "data": {
      "text/plain": [
       "<5196x8189 sparse matrix of type '<class 'numpy.float64'>'\n",
       "\twith 369435 stored elements in Compressed Sparse Row format>"
      ]
     },
     "execution_count": 5,
     "metadata": {},
     "output_type": "execute_result"
    }
   ],
   "source": [
    "features"
   ]
  },
  {
   "cell_type": "code",
   "execution_count": 6,
   "metadata": {},
   "outputs": [
    {
     "data": {
      "text/plain": [
       "array([6, 2, 2, ..., 4, 4, 4], dtype=uint8)"
      ]
     },
     "execution_count": 6,
     "metadata": {},
     "output_type": "execute_result"
    }
   ],
   "source": [
    "labels"
   ]
  },
  {
   "cell_type": "code",
   "execution_count": 7,
   "metadata": {},
   "outputs": [
    {
     "data": {
      "text/plain": [
       "<5196x5196 sparse matrix of type '<class 'numpy.float64'>'\n",
       "\twith 343486 stored elements in Compressed Sparse Row format>"
      ]
     },
     "execution_count": 7,
     "metadata": {},
     "output_type": "execute_result"
    }
   ],
   "source": [
    "adj"
   ]
  },
  {
   "cell_type": "code",
   "execution_count": 8,
   "metadata": {},
   "outputs": [],
   "source": [
    "# 保存adj\n",
    "sp.save_npz(\"BlogCatalog-dataset/small_United/Adj.npz\",adj)\n",
    "# 保存features\n",
    "sp.save_npz(\"BlogCatalog-dataset/small_United/Features.npz\",features)\n",
    "# 保存labels\n",
    "np.save(\"BlogCatalog-dataset/small_United/Labels.npy\",labels)"
   ]
  },
  {
   "cell_type": "code",
   "execution_count": 12,
   "metadata": {},
   "outputs": [
    {
     "name": "stdout",
     "output_type": "stream",
     "text": [
      "[[1 1 0 ... 0 0 0]\n",
      " [1 1 0 ... 0 0 0]\n",
      " [0 0 1 ... 0 0 0]\n",
      " ...\n",
      " [0 0 0 ... 0 0 0]\n",
      " [0 0 0 ... 0 0 0]\n",
      " [0 0 0 ... 0 0 0]]\n",
      "[[0 1 0 ... 0 0 0]\n",
      " [1 0 1 ... 0 0 0]\n",
      " [0 1 0 ... 0 0 0]\n",
      " ...\n",
      " [0 0 0 ... 0 0 0]\n",
      " [0 0 0 ... 0 0 0]\n",
      " [0 0 0 ... 0 0 0]]\n",
      "[[0 1 0 ... 0 0 0]\n",
      " [1 0 0 ... 0 0 0]\n",
      " [0 0 0 ... 0 0 0]\n",
      " ...\n",
      " [0 0 0 ... 0 0 0]\n",
      " [0 0 0 ... 0 0 0]\n",
      " [0 0 0 ... 0 0 0]]\n"
     ]
    }
   ],
   "source": [
    "\n",
    "target = [\"brazil\",\"europe\",\"usa\"]\n",
    "for item in target:\n",
    "    edges = np.loadtxt(\"{}/{}-airports.edgelist\".format(item,item),dtype=int,skiprows=0)\n",
    "    labels = np.loadtxt(\"{}/labels-{}-airports.txt\".format(item,item),dtype=int,skiprows=1,usecols=1)\n",
    "    labels = np.ravel(labels)\n",
    "    G = nx.from_edgelist(edges)\n",
    "    adj = sp.csr_matrix(nx.adj_matrix(G))\n",
    "    sp.save_npz(\"{}/United/Adj.npz\".format(item),adj)\n",
    "    np.save(\"{}/United/labels.npy\".format(item),labels)\n",
    "    print(adj.A)\n",
    "    "
   ]
  },
  {
   "cell_type": "code",
   "execution_count": 9,
   "metadata": {},
   "outputs": [],
   "source": [
    "import pickle as pkl\n",
    "import sys\n",
    "def parse_index_file(filename):\n",
    "    \"\"\"Parse index file.\"\"\"\n",
    "    index = []\n",
    "    for line in open(filename):\n",
    "        index.append(int(line.strip()))\n",
    "    return index"
   ]
  },
  {
   "cell_type": "code",
   "execution_count": 17,
   "metadata": {},
   "outputs": [],
   "source": [
    "target = [\"cora\",\"pubmed\",\"citeseer\"]\n",
    "for item in target:\n",
    "    names = ['x', 'y', 'tx', 'ty', 'allx', 'ally', 'graph']\n",
    "    objects = []\n",
    "    for i in range(len(names)):\n",
    "        with open(\"{}/ind.{}.{}\".format(item,item , names[i]), 'rb') as f:\n",
    "            if sys.version_info > (3, 0):\n",
    "                objects.append(pkl.load(f, encoding='latin1'))\n",
    "            else:\n",
    "                objects.append(pkl.load(f))\n",
    "\n",
    "    x, y, tx, ty, allx, ally, graph = tuple(objects)\n",
    "    test_idx_reorder = parse_index_file(\"{}/ind.{}.test.index\".format(item,item))\n",
    "    test_idx_range = np.sort(test_idx_reorder)\n",
    "    if item == 'citeseer':\n",
    "        test_idx_range_full = range(min(test_idx_reorder), max(test_idx_reorder)+1)\n",
    "        tx_extended = sp.lil_matrix((len(test_idx_range_full), x.shape[1]))\n",
    "        tx_extended[test_idx_range-min(test_idx_range), :] = tx\n",
    "        tx = tx_extended\n",
    "        ty_extended = np.zeros((len(test_idx_range_full), y.shape[1]))\n",
    "        ty_extended[test_idx_range-min(test_idx_range), :] = ty\n",
    "        ty = ty_extended\n",
    "\n",
    "    features = sp.vstack((allx, tx)).tolil()\n",
    "    features[test_idx_reorder, :] = features[test_idx_range, :]\n",
    "    adj = nx.adjacency_matrix(nx.from_dict_of_lists(graph))\n",
    "\n",
    "    labels = np.vstack((ally, ty))\n",
    "    labels[test_idx_reorder, :] = labels[test_idx_range, :]\n",
    "    \n",
    "    idx_test = np.array(test_idx_range.tolist())\n",
    "    idx_train = np.array(list(range(len(y))))\n",
    "    idx_val = np.array(list(range(len(y), len(y)+500)))\n",
    "    \n",
    "    sp.save_npz(\"{}/United/Adj.npz\".format(item),adj.tocsr())\n",
    "    sp.save_npz(\"{}/United/Features.npz\".format(item),features.tocsr())\n",
    "    np.save(\"{}/United/Labels.npy\".format(item),np.ravel(labels))\n",
    "    \n",
    "    np.save(\"{}/United/train_splits.npy\".format(item),idx_train)\n",
    "    np.save(\"{}/United/valid_splits.npy\".format(item),idx_val)\n",
    "    np.save(\"{}/United/test_splits.npy\".format(item),idx_test)\n",
    "    "
   ]
  },
  {
   "cell_type": "code",
   "execution_count": 18,
   "metadata": {},
   "outputs": [],
   "source": [
    "data = scio.loadmat(\"flickr/Flickr.mat\")"
   ]
  },
  {
   "cell_type": "code",
   "execution_count": 19,
   "metadata": {},
   "outputs": [
    {
     "data": {
      "text/plain": [
       "{'__header__': b'MATLAB 5.0 MAT-file, Platform: MACI64, Created on: Tue Oct 17 16:58:12 2017',\n",
       " '__version__': '1.0',\n",
       " '__globals__': [],\n",
       " 'Attributes': <7575x12047 sparse matrix of type '<class 'numpy.float64'>'\n",
       " \twith 182517 stored elements in Compressed Sparse Column format>,\n",
       " 'Label': array([[8],\n",
       "        [2],\n",
       "        [7],\n",
       "        ...,\n",
       "        [3],\n",
       "        [6],\n",
       "        [4]], dtype=uint8),\n",
       " 'Network': <7575x7575 sparse matrix of type '<class 'numpy.float64'>'\n",
       " \twith 479476 stored elements in Compressed Sparse Column format>}"
      ]
     },
     "execution_count": 19,
     "metadata": {},
     "output_type": "execute_result"
    }
   ],
   "source": [
    "data"
   ]
  },
  {
   "cell_type": "code",
   "execution_count": 20,
   "metadata": {},
   "outputs": [],
   "source": [
    "features = sp.csr_matrix(data[\"Attributes\"])\n",
    "labels = np.ravel(data[\"Label\"])\n",
    "adj = sp.csr_matrix(data[\"Network\"])\n",
    "# 保存adj\n",
    "sp.save_npz(\"flickr/United/Adj.npz\",adj)\n",
    "# 保存features\n",
    "sp.save_npz(\"flickr/United/Features.npz\",features)\n",
    "# 保存labels\n",
    "np.save(\"flickr/United/Labels.npy\",labels)"
   ]
  },
  {
   "cell_type": "code",
   "execution_count": 34,
   "metadata": {},
   "outputs": [],
   "source": [
    "# target = [\"0.001\",\"0.01\",\"0.1\"]\n",
    "# for item in target:\n",
    "#     names = ['x', 'y', 'tx', 'ty', 'allx', 'ally', 'graph']\n",
    "#     objects = []\n",
    "#     for i in range(len(names)):\n",
    "#         with open(\"NELL/ind.nell.{}.{}\".format(item , names[i]), 'rb') as f:\n",
    "#             if sys.version_info > (3, 0):\n",
    "#                 objects.append(pkl.load(f, encoding='latin1'))\n",
    "#             else:\n",
    "#                 objects.append(pkl.load(f))\n",
    "\n",
    "#     x, y, tx, ty, allx, ally, graph = tuple(objects)\n",
    "#     test_idx_reorder = parse_index_file(\"NELL/ind.nell.{}.test.index\".format(item))\n",
    "#     test_idx_range = np.sort(test_idx_reorder)\n",
    "#     features = sp.vstack((allx, tx)).tolil()\n",
    "#     features[test_idx_reorder, :] = features[test_idx_range, :]\n",
    "#     adj = nx.adjacency_matrix(nx.from_dict_of_lists(graph))\n",
    "\n",
    "#     labels = np.vstack((ally, ty))\n",
    "#     labels[test_idx_reorder, :] = labels[test_idx_range, :]\n",
    "    \n",
    "#     idx_test = np.array(test_idx_range.tolist())\n",
    "#     idx_train = np.array(list(range(len(y))))\n",
    "#     idx_val = np.array(list(range(len(y), len(y)+500)))\n",
    "    \n",
    "#     sp.save_npz(\"NELL/United_{}/Adj.npz\".format(item),adj.tocsr())\n",
    "#     sp.save_npz(\"NELL/United_{}/Features.npz\".format(item),features.tocsr())\n",
    "#     np.save(\"NELL/United_{}/Labels.npy\".format(item),np.ravel(labels))\n",
    "    \n",
    "#     np.save(\"NELL/United_{}/train_splits.npy\".format(item),idx_train)\n",
    "#     np.save(\"NELL/United_{}/valid_splits.npy\".format(item),idx_val)\n",
    "#     np.save(\"NELL/United_{}/test_splits.npy\".format(item),idx_test)"
   ]
  }
 ],
 "metadata": {
  "kernelspec": {
   "display_name": "Python 3",
   "language": "python",
   "name": "python3"
  },
  "language_info": {
   "codemirror_mode": {
    "name": "ipython",
    "version": 3
   },
   "file_extension": ".py",
   "mimetype": "text/x-python",
   "name": "python",
   "nbconvert_exporter": "python",
   "pygments_lexer": "ipython3",
   "version": "3.7.4"
  }
 },
 "nbformat": 4,
 "nbformat_minor": 2
}
